{
  "nbformat": 4,
  "nbformat_minor": 0,
  "metadata": {
    "colab": {
      "name": "Untitled0.ipynb",
      "provenance": [],
      "authorship_tag": "ABX9TyN+xwXzaPLdIyw6jTd8ZI4D",
      "include_colab_link": true
    },
    "kernelspec": {
      "name": "python3",
      "display_name": "Python 3"
    },
    "language_info": {
      "name": "python"
    }
  },
  "cells": [
    {
      "cell_type": "markdown",
      "metadata": {
        "id": "view-in-github",
        "colab_type": "text"
      },
      "source": [
        "<a href=\"https://colab.research.google.com/github/AAriasBritos/MET4OP/blob/master/Clase%207.ipynb\" target=\"_parent\"><img src=\"https://colab.research.google.com/assets/colab-badge.svg\" alt=\"Open In Colab\"/></a>"
      ]
    },
    {
      "cell_type": "markdown",
      "metadata": {
        "id": "-0XJL3eIfkBz"
      },
      "source": [
        "# VISUALIZACIÓN DE DATOS \n",
        "**MATPLOTLIB VS. SEABORN**"
      ]
    },
    {
      "cell_type": "markdown",
      "metadata": {
        "id": "U2T-06Zzfh7O"
      },
      "source": [
        "\n",
        "\n",
        "*   Matplotlin es una libreria de Python usada para esquematizar graficos simples a partir de otras librerias (Pandas y Numpy)\n",
        "\n",
        "*   Graficos 2D: histogramas, graficos de barras, pie charts, diagramas de dispersión, lineas\n",
        "\n",
        "\n",
        "\n",
        "\n",
        "\n"
      ]
    },
    {
      "cell_type": "markdown",
      "metadata": {
        "id": "Znp5iUC9kI1D"
      },
      "source": [
        "ALGUNOS EJEMPLOS \n",
        "\n",
        "*   Grafico con linea\n",
        "*   Grafico con puntos \n",
        "\n"
      ]
    },
    {
      "cell_type": "code",
      "metadata": {
        "colab": {
          "base_uri": "https://localhost:8080/",
          "height": 282
        },
        "id": "rdER9053j1vt",
        "outputId": "5ce0b72e-8f36-45a0-ca62-ea6120d809b6"
      },
      "source": [
        "import matplotlib.pyplot as plt\n",
        "%matplotlib inline\n",
        "import numpy as np\n",
        "\n",
        "xpoints = np.array([0, 6])\n",
        "ypoints = np.array([0, 250])\n",
        "\n",
        "plt.plot(xpoints, ypoints)\n"
      ],
      "execution_count": 15,
      "outputs": [
        {
          "output_type": "execute_result",
          "data": {
            "text/plain": [
              "[<matplotlib.lines.Line2D at 0x7fd420720310>]"
            ]
          },
          "metadata": {},
          "execution_count": 15
        },
        {
          "output_type": "display_data",
          "data": {
            "image/png": "[encoded data removed]",
            "text/plain": [
              "<Figure size 432x288 with 1 Axes>"
            ]
          },
          "metadata": {
            "needs_background": "light"
          }
        }
      ]
    },
    {
      "cell_type": "code",
      "metadata": {
        "colab": {
          "base_uri": "https://localhost:8080/",
          "height": 282
        },
        "id": "DweOltPhj8rF",
        "outputId": "90af4ba1-a943-4ff9-c578-7fd95d37a578"
      },
      "source": [
        "xpoints = np.array([1, 10])\n",
        "ypoints = np.array([10, 100])\n",
        "\n",
        "plt.plot(xpoints, ypoints, 'o')\n"
      ],
      "execution_count": 16,
      "outputs": [
        {
          "output_type": "execute_result",
          "data": {
            "text/plain": [
              "[<matplotlib.lines.Line2D at 0x7fd4243eb610>]"
            ]
          },
          "metadata": {},
          "execution_count": 16
        },
        {
          "output_type": "display_data",
          "data": {
            "image/png": "[encoded data removed]",
            "text/plain": [
              "<Figure size 432x288 with 1 Axes>"
            ]
          },
          "metadata": {
            "needs_background": "light"
          }
        }
      ]
    },
    {
      "cell_type": "markdown",
      "metadata": {
        "id": "3cl57ugFkrir"
      },
      "source": [
        "Grafico con varios puntos: \n",
        "\n",
        "*   Cuando no se especifican los puntos en el eje X se asignan por default en todos los valores del eje\n",
        "*   Existen diferentes codigos para personalizar cada una de las partes del grafico (diametro y color de los puntos, grosor de la linea, etc)\n",
        "\n"
      ]
    },
    {
      "cell_type": "code",
      "metadata": {
        "colab": {
          "base_uri": "https://localhost:8080/",
          "height": 282
        },
        "id": "BFaoecYnkgP4",
        "outputId": "d2b4084b-dd8c-419e-e0c5-5f90d030d892"
      },
      "source": [
        "xpoints = np.array([1, 2, 6, 8])\n",
        "ypoints = np.array([3, 8, 1, 10])\n",
        "\n",
        "plt.plot(xpoints, ypoints)\n"
      ],
      "execution_count": 17,
      "outputs": [
        {
          "output_type": "execute_result",
          "data": {
            "text/plain": [
              "[<matplotlib.lines.Line2D at 0x7fd420720090>]"
            ]
          },
          "metadata": {},
          "execution_count": 17
        },
        {
          "output_type": "display_data",
          "data": {
            "image/png": "[encoded data removed]",
            "text/plain": [
              "<Figure size 432x288 with 1 Axes>"
            ]
          },
          "metadata": {
            "needs_background": "light"
          }
        }
      ]
    },
    {
      "cell_type": "code",
      "metadata": {
        "colab": {
          "base_uri": "https://localhost:8080/",
          "height": 282
        },
        "id": "WsAy17gPlfhE",
        "outputId": "b1ab621d-3676-4560-fafc-51e3eed93610"
      },
      "source": [
        "ypoints = np.array([3, 8, 1, 10, 5, 7])\n",
        "\n",
        "plt.plot(ypoints)\n"
      ],
      "execution_count": 20,
      "outputs": [
        {
          "output_type": "execute_result",
          "data": {
            "text/plain": [
              "[<matplotlib.lines.Line2D at 0x7fd420226e10>]"
            ]
          },
          "metadata": {},
          "execution_count": 20
        },
        {
          "output_type": "display_data",
          "data": {
            "image/png": "[encoded data removed]",
            "text/plain": [
              "<Figure size 432x288 with 1 Axes>"
            ]
          },
          "metadata": {
            "needs_background": "light"
          }
        }
      ]
    },
    {
      "cell_type": "markdown",
      "metadata": {
        "id": "z9l2Me3znRqx"
      },
      "source": [
        "SUBPLOTS: usamos la funcion **subplots()** para crear diferentes graficos en una misma imagen"
      ]
    },
    {
      "cell_type": "code",
      "metadata": {
        "colab": {
          "base_uri": "https://localhost:8080/",
          "height": 282
        },
        "id": "6Pb_9Pp8oHdV",
        "outputId": "bd14ff1e-8039-4677-a85b-5ecd8eac759b"
      },
      "source": [
        "#plot 1:\n",
        "x = np.array([0, 1, 2, 3])\n",
        "y = np.array([3, 8, 1, 10])\n",
        "\n",
        "plt.subplot(2, 1, 1)  #Esta funcion comprende tres valores: filas, columnas, lugar o posicion del grafico\n",
        "plt.plot(x,y)\n",
        "    \n",
        "#plot 2:\n",
        "x = np.array([0, 1, 2, 3])\n",
        "y = np.array([10, 20, 30, 40])\n",
        "\n",
        "plt.subplot(2, 1, 2)  # Nuestra imagen tiene dos filas, una columna y especificamos cual de los graficos va \"primero\" y cual \"segundo\"\n",
        "plt.plot(x,y)\n",
        "\n"
      ],
      "execution_count": 19,
      "outputs": [
        {
          "output_type": "execute_result",
          "data": {
            "text/plain": [
              "[<matplotlib.lines.Line2D at 0x7fd4202a7110>]"
            ]
          },
          "metadata": {},
          "execution_count": 19
        },
        {
          "output_type": "display_data",
          "data": {
            "image/png": "[encoded data removed]",
            "text/plain": [
              "<Figure size 432x288 with 2 Axes>"
            ]
          },
          "metadata": {
            "needs_background": "light"
          }
        }
      ]
    },
    {
      "cell_type": "markdown",
      "metadata": {
        "id": "gHPxgFHsq9dn"
      },
      "source": [
        "GRAFICOS DE BARRAS"
      ]
    },
    {
      "cell_type": "code",
      "metadata": {
        "colab": {
          "base_uri": "https://localhost:8080/",
          "height": 282
        },
        "id": "UOc078MAq_Qs",
        "outputId": "af571789-5ee4-4453-934a-5aafa0aeaa49"
      },
      "source": [
        "x = np.array([\"A\", \"B\", \"C\", \"D\"])\n",
        "y = np.array([3, 8, 1, 10])\n",
        "\n",
        "plt.bar(x,y)\n"
      ],
      "execution_count": 21,
      "outputs": [
        {
          "output_type": "execute_result",
          "data": {
            "text/plain": [
              "<BarContainer object of 4 artists>"
            ]
          },
          "metadata": {},
          "execution_count": 21
        },
        {
          "output_type": "display_data",
          "data": {
            "image/png": "[encoded data removed]",
            "text/plain": [
              "<Figure size 432x288 with 1 Axes>"
            ]
          },
          "metadata": {
            "needs_background": "light"
          }
        }
      ]
    },
    {
      "cell_type": "code",
      "metadata": {
        "colab": {
          "base_uri": "https://localhost:8080/"
        },
        "id": "dIpFyiC-sT7b",
        "outputId": "e42282ca-893b-45c4-9880-0376621bd177"
      },
      "source": [
        "x = np.random.normal(170, 10, 250)\n",
        "\n",
        "print(x)"
      ],
      "execution_count": 12,
      "outputs": [
        {
          "output_type": "stream",
          "name": "stdout",
          "text": [
            "[170.60355982 175.24857462 162.91692364 180.88063148 156.1311115\n",
            " 156.17261158 168.85473975 184.23899651 170.39993667 178.51557786\n",
            " 148.56666218 176.61652766 168.82574717 167.40992828 155.44262361\n",
            " 170.66380552 182.96740505 186.92869346 173.94577461 171.91494115\n",
            " 143.45200172 166.70128804 155.11438665 168.52072799 177.33622286\n",
            " 167.6002429  167.05054558 161.57154475 179.4186399  177.31618758\n",
            " 181.74170664 159.37425266 167.61567788 175.63156196 163.45972377\n",
            " 170.74399294 169.73066819 159.5291519  179.24234627 164.23432094\n",
            " 156.52450599 172.25279023 170.71682177 153.45126166 164.50558734\n",
            " 165.87593863 169.06678473 175.08224899 176.95617832 173.27880797\n",
            " 177.40627132 179.73393426 172.54112224 182.55667797 143.78534695\n",
            " 174.55172064 177.63631535 176.94845607 168.26289102 170.00947422\n",
            " 186.90136699 157.26862039 179.02315755 158.7667534  166.07707505\n",
            " 158.9863464  181.25170959 158.07022624 164.29603629 158.60069909\n",
            " 162.92534288 176.95463659 188.79001346 155.90894517 168.99488126\n",
            " 163.18048286 173.23648145 172.3627275  164.84601514 150.8416432\n",
            " 168.08011464 171.49973295 189.84791249 166.17625972 169.13688975\n",
            " 155.41877174 163.21361343 184.96826796 168.770319   167.05432414\n",
            " 169.8228466  179.89699395 175.15001974 182.06565978 168.27741007\n",
            " 162.4364846  170.85186217 163.91372213 171.89506709 185.60362246\n",
            " 165.32915339 167.49228467 174.16030041 144.89091955 158.48684086\n",
            " 150.6692003  172.31350227 163.56600044 174.08978333 162.34777218\n",
            " 172.12862026 175.53167106 178.46945128 185.01593218 162.88971709\n",
            " 167.54231638 170.49397553 176.25809661 166.48872757 165.5461385\n",
            " 167.55465155 172.42004915 178.30865267 180.68078934 175.08052583\n",
            " 187.39900865 161.43281481 166.59807903 175.43882305 165.37327698\n",
            " 169.97944065 171.42700197 170.39201623 154.74277632 181.45514277\n",
            " 164.91240516 180.29639617 185.99041124 181.75476604 167.92344921\n",
            " 171.87035691 165.04029474 172.78793424 167.82754774 158.82855635\n",
            " 174.18769619 166.0877388  163.81493059 170.97664545 152.08782288\n",
            " 174.32759759 184.97512354 186.8750078  191.69106235 174.69508061\n",
            " 190.41687688 167.56804038 163.29205761 162.60843161 155.05721708\n",
            " 165.54997283 170.42763207 181.35660777 188.20056302 162.49287578\n",
            " 160.45384462 177.50937297 178.32633114 170.16561316 177.70515202\n",
            " 160.54600784 177.66473137 160.19757183 179.56309173 165.48936694\n",
            " 173.95146364 178.46754536 159.96522858 164.78483031 181.5932308\n",
            " 171.70061976 168.05993397 167.09753948 196.21628669 178.47760998\n",
            " 179.92765343 176.06457111 170.02766272 177.84586887 157.52780976\n",
            " 170.37141196 174.10059992 163.24272729 169.43332115 172.30706605\n",
            " 174.68015303 175.34619552 161.00833545 178.1189426  162.79341484\n",
            " 173.2058937  164.44670165 163.44051174 162.87287223 169.34530559\n",
            " 163.95448689 173.77555854 173.42965384 189.11693808 156.75771759\n",
            " 174.11672997 164.63862719 176.73481953 162.64924697 182.45631781\n",
            " 174.71388779 159.82579079 188.63971286 179.206304   157.45785068\n",
            " 179.48889026 177.43207601 156.81318635 161.21013327 165.56768346\n",
            " 163.1205375  153.67306285 176.80747061 167.48024581 172.99008456\n",
            " 161.75252393 161.40204056 175.19502622 170.64540719 163.59897849\n",
            " 171.75309978 150.82191313 170.33751797 174.02915986 156.82405553\n",
            " 152.55214276 158.56145664 170.28581116 163.75377769 188.46158581\n",
            " 153.35806745 176.97939179 168.31683269 177.6372288  158.99460433]\n"
          ]
        }
      ]
    },
    {
      "cell_type": "code",
      "metadata": {
        "colab": {
          "base_uri": "https://localhost:8080/",
          "height": 349
        },
        "id": "Xx3ZG3krsUlg",
        "outputId": "33116fb9-9123-46a6-d40e-a120e5aece35"
      },
      "source": [
        "x = np.random.normal(170, 10, 250)\n",
        "\n",
        "plt.hist(x)\n"
      ],
      "execution_count": 22,
      "outputs": [
        {
          "output_type": "execute_result",
          "data": {
            "text/plain": [
              "(array([ 3., 14., 25., 46., 54., 54., 31., 14.,  6.,  3.]),\n",
              " array([143.11163336, 148.82958093, 154.54752849, 160.26547605,\n",
              "        165.98342362, 171.70137118, 177.41931875, 183.13726631,\n",
              "        188.85521387, 194.57316144, 200.291109  ]),\n",
              " <a list of 10 Patch objects>)"
            ]
          },
          "metadata": {},
          "execution_count": 22
        },
        {
          "output_type": "display_data",
          "data": {
            "image/png": "[encoded data removed]",
            "text/plain": [
              "<Figure size 432x288 with 1 Axes>"
            ]
          },
          "metadata": {
            "needs_background": "light"
          }
        }
      ]
    },
    {
      "cell_type": "markdown",
      "metadata": {
        "id": "n8u7fh0BtHfw"
      },
      "source": [
        "**DESVENTAJAS DE MATPLOTLIB**\n",
        "\n",
        "\n",
        "*   Muchas lineas de codigo: sintaxis extensa y compleja\n",
        "*   Graficos simples\n",
        "*   Trabaja con data frames y arrays\n",
        "\n",
        "\n",
        "**POR QUE USAR SEABORN**\n",
        "*  Es una libreria basaba en Matplotlib, Pandas y Numpy\n",
        "*  Podemos graficar con mayor claridad datos bivariados, trata el conjunto de datos como una unidad\n",
        "*  Trabaja con graficos predefinidos (o patrones de visualizacion): elimina la sintaxis compleja y larga de *plt*\n"
      ]
    },
    {
      "cell_type": "code",
      "metadata": {
        "id": "ff-pET6DvunJ"
      },
      "source": [
        ""
      ],
      "execution_count": null,
      "outputs": []
    }
  ]
}